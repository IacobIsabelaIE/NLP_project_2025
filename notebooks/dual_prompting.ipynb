{
 "cells": [
  {
   "cell_type": "code",
   "execution_count": 1,
   "id": "18a4973f",
   "metadata": {},
   "outputs": [],
   "source": [
    "import sys\n",
    "import os\n",
    "import re\n",
    "\n",
    "# Add the root of the project to sys.path\n",
    "sys.path.append(os.path.abspath(\"..\"))\n",
    "from prompts.templates import get_prompt_template\n",
    "\n",
    "# Now you can import the class\n",
    "from llm.base import QwenLLM"
   ]
  },
  {
   "cell_type": "code",
   "execution_count": 2,
   "id": "9845c813",
   "metadata": {},
   "outputs": [],
   "source": [
    "model = QwenLLM(api_key='sk-2e6cb67b022d4b21a708e2a1e486a240')"
   ]
  },
  {
   "cell_type": "code",
   "execution_count": 3,
   "id": "93897436",
   "metadata": {},
   "outputs": [],
   "source": [
    "import json\n",
    "\n",
    "input_file = \"../data/val.jsonl\"\n",
    "\n",
    "with open(input_file) as f:\n",
    "    input_rows = [json.loads(line) for line in f]"
   ]
  },
  {
   "cell_type": "code",
   "execution_count": null,
   "id": "74a34c62",
   "metadata": {},
   "outputs": [],
   "source": [
    "YES_NO_PROMPTS = {\n",
    "    \"countryLandBordersCountry\": \"Think step by step: 1) What type of territory is {subject_entity}? 2) Is it surrounded by water or connected to land? 3) If connected to land, does it border other countries? Final answer (yes/no): Does {subject_entity} share land borders?\",\n",
    "    \"personHasCityOfDeath\": \"Think step by step: When was {subject_entity} born? 2) Are they still alive as of my last knowledge update? 2) Based on the above analysis, what is the current status? Final answer (yes/no): Is {subject_entity} dead?\",\n",
    "    \"companyTradesAtStockExchange\": \"Think step by step: 1) What type of entity is {subject_entity}? 2) Is it a publicly traded company? 3) If so, does it trade on a stock exchange? Final answer (yes/no): Does {subject_entity} trade on a stock exchange?\",\n",
    "}\n",
    "\n",
    "FOLLOW_UP_PROMPTS = {\n",
    "    \"countryLandBordersCountry\": \"You've said that {subject_entity} has land borders. List the countries that {subject_entity} shares land borders with.\",\n",
    "    \"personHasCityOfDeath\": \"You've said that {subject_entity} is dead. What city did {subject_entity} die in?\",\n",
    "    \"companyTradesAtStockExchange\": \"You've said that {subject_entity} trade on stock exchange. What stock exchange does {subject_entity} trade on?\",\n",
    "}\n",
    "\n",
    "OTHER_RELATIONS = {\n",
    "    \"hasArea\": \"Think step by step: 1) What type of entity is {subject_entity}? (country, city, building, geographic feature, etc.) 2) What is the official area of {subject_entity} in square kilometers? 3) Are there any variations in how this area might be reported? Final answer (numbers): What is the area of {subject_entity} in square kilometers? Provide the number as the final thing\",\n",
    "    \"hasCapacity\": \"Think step by step: 1) What type of entity is {subject_entity}? (stadium, building, etc.) 2) What is the seating capacity of {subject_entity}? 3) Has the seating capacity changed over time due to renovations or reconfigurations? Final answer (numbers): What is the capacity of {subject_entity}? Provide the number as the final thing\",\n",
    "    \"awardWonBy\": \"Think step by step: 1) What type of award is {subject_entity}? (annual, one-time, category-specific, etc.)? 2) Are there multiple categories or a single winner for this award? 3) How many people have won this award? Final answer (text): Who has won the {subject_entity}? Provide the answer as a python list of ALL winners\", \n",
    "}"
   ]
  },
  {
   "cell_type": "code",
   "execution_count": null,
   "id": "dfa5abda",
   "metadata": {},
   "outputs": [],
   "source": [
    "results = []\n",
    "\n",
    "for row in input_rows:\n",
    "    if row['Relation'] in [\"countryLandBordersCountry\", \"personHasCityOfDeath\", \"companyTradesAtStockExchange\"]:\n",
    "            prompt = get_prompt_template(row, YES_NO_PROMPTS)\n",
    "            response = model.chat(prompt)\n",
    "            print(f\"SubjectEntity: {row['SubjectEntity']}, Relation: {row['Relation']}, Response: {response.strip().split()[-1].lower()}\")\n",
    "            if response.strip().split()[-1].lower() == \"yes\":\n",
    "                prompt = get_prompt_template(row, FOLLOW_UP_PROMPTS)\n",
    "                response = model.chat(prompt)\n",
    "                print(f\"Follow-up Response: {response}\")\n",
    "                results.append({\n",
    "                    \"SubjectEntity\": row['SubjectEntity'],\n",
    "                    \"Relation\": row['Relation'],\n",
    "                    \"ObjectEntities\": response.split(\", \")\n",
    "                })\n",
    "            else:\n",
    "                results.append({\n",
    "                    \"SubjectEntity\": row['SubjectEntity'],\n",
    "                    \"Relation\": row['Relation'],\n",
    "                    \"ObjectEntities\": []\n",
    "                })\n",
    "    else:\n",
    "        if row['Relation'] == \"awardWonBy\":\n",
    "            prompt = get_prompt_template(row, OTHER_RELATIONS)\n",
    "            response = model.chat(prompt)\n",
    "            matches = re.findall(r\"\\[(.*?)\\]\", response, re.DOTALL)\n",
    "            if matches:\n",
    "                names_with_quotes = re.findall(r'\"[^\"]+\"', matches[0])\n",
    "                result = \", \".join(names_with_quotes)\n",
    "                print(f\"SubjectEntity: {row['SubjectEntity']}, Relation: {row['Relation']}, Response: {result}\")\n",
    "                results.append({\n",
    "                    \"SubjectEntity\": row['SubjectEntity'],\n",
    "                    \"Relation\": row['Relation'],\n",
    "                    \"ObjectEntities\": result.split(\", \")\n",
    "                })\n",
    "            else:\n",
    "                print(f\"SubjectEntity: {row['SubjectEntity']}, Relation: {row['Relation']}, Response: {response}\")\n",
    "                results.append({\n",
    "                    \"SubjectEntity\": row['SubjectEntity'],\n",
    "                    \"Relation\": row['Relation'],\n",
    "                    \"ObjectEntities\": []\n",
    "                })\n",
    "        if row['Relation'] in [\"hasArea\", \"hasCapacity\"]:\n",
    "            prompt = get_prompt_template(row, OTHER_RELATIONS)\n",
    "            response = model.chat(prompt)\n",
    "            results.append({\n",
    "                \"SubjectEntity\": row['SubjectEntity'],\n",
    "                \"Relation\": row['Relation'],\n",
    "                \"ObjectEntities\": response.strip().split()[-1]\n",
    "            })\n",
    "            print(f\"SubjectEntity: {row['SubjectEntity']}, Relation: {row['Relation']}, Response: {response.strip().split()[-1]}\")"
   ]
  },
  {
   "cell_type": "code",
   "execution_count": null,
   "id": "0cf801bf",
   "metadata": {},
   "outputs": [],
   "source": [
    "results"
   ]
  },
  {
   "cell_type": "code",
   "execution_count": 9,
   "id": "078e30c6",
   "metadata": {},
   "outputs": [],
   "source": [
    "import json\n",
    "\n",
    "with open(\"output.jsonl\", \"w\", encoding=\"utf-8\") as f:\n",
    "    for item in results:\n",
    "        f.write(json.dumps(item, ensure_ascii=False) + \"\\n\")"
   ]
  }
 ],
 "metadata": {
  "kernelspec": {
   "display_name": "nlpenv_py311",
   "language": "python",
   "name": "python3"
  },
  "language_info": {
   "codemirror_mode": {
    "name": "ipython",
    "version": 3
   },
   "file_extension": ".py",
   "mimetype": "text/x-python",
   "name": "python",
   "nbconvert_exporter": "python",
   "pygments_lexer": "ipython3",
   "version": "3.11.13"
  }
 },
 "nbformat": 4,
 "nbformat_minor": 5
}
